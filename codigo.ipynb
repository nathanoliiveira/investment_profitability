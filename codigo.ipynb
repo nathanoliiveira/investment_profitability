{
 "cells": [
  {
   "cell_type": "markdown",
   "metadata": {},
   "source": [
    "Automação Python para acompanhar rentabilidade de carteira de investimentos instantaneamente\n"
   ]
  },
  {
   "cell_type": "markdown",
   "metadata": {},
   "source": [
    "Importações"
   ]
  },
  {
   "cell_type": "code",
   "execution_count": 93,
   "metadata": {},
   "outputs": [],
   "source": [
    "import pandas as pd\n",
    "import yfinance as yf"
   ]
  },
  {
   "cell_type": "markdown",
   "metadata": {},
   "source": [
    "Leitura da Carteira"
   ]
  },
  {
   "cell_type": "code",
   "execution_count": 94,
   "metadata": {},
   "outputs": [
    {
     "name": "stdout",
     "output_type": "stream",
     "text": [
      "ITUB4.SA 1000.0\n",
      "BBAS3.SA 2000.0\n",
      "VALE3.SA 1000.0\n",
      "EGIE3.SA 500.0\n",
      "SLCE3.SA 300.0\n",
      "{'ITUB4.SA': 1000.0, 'BBAS3.SA': 2000.0, 'VALE3.SA': 1000.0, 'EGIE3.SA': 500.0, 'SLCE3.SA': 300.0}\n"
     ]
    }
   ],
   "source": [
    "with open(\"carteira.txt\", \"r\") as arquivo:\n",
    "    texto = arquivo.readlines()\n",
    "\n",
    "carteira = {}\n",
    "\n",
    "for linha in texto:\n",
    "    ticker, valor = linha.split(\"-\")\n",
    "    ticker = f\"{ticker.strip()}.SA\"\n",
    "    valor = float(valor.strip())\n",
    "\n",
    "    print(ticker, valor)\n",
    "    \n",
    "    carteira[ticker] = valor\n",
    "\n",
    "print(carteira)\n",
    "\n"
   ]
  },
  {
   "cell_type": "markdown",
   "metadata": {},
   "source": [
    "Obtenção das Cotações"
   ]
  },
  {
   "cell_type": "code",
   "execution_count": 95,
   "metadata": {},
   "outputs": [
    {
     "name": "stderr",
     "output_type": "stream",
     "text": [
      "[*********************100%***********************]  6 of 6 completed\n"
     ]
    },
    {
     "data": {
      "text/html": [
       "<div>\n",
       "<style scoped>\n",
       "    .dataframe tbody tr th:only-of-type {\n",
       "        vertical-align: middle;\n",
       "    }\n",
       "\n",
       "    .dataframe tbody tr th {\n",
       "        vertical-align: top;\n",
       "    }\n",
       "\n",
       "    .dataframe thead th {\n",
       "        text-align: right;\n",
       "    }\n",
       "</style>\n",
       "<table border=\"1\" class=\"dataframe\">\n",
       "  <thead>\n",
       "    <tr style=\"text-align: right;\">\n",
       "      <th>Ticker</th>\n",
       "      <th>BBAS3.SA</th>\n",
       "      <th>EGIE3.SA</th>\n",
       "      <th>ITUB4.SA</th>\n",
       "      <th>SLCE3.SA</th>\n",
       "      <th>VALE3.SA</th>\n",
       "      <th>^BVSP</th>\n",
       "    </tr>\n",
       "    <tr>\n",
       "      <th>Date</th>\n",
       "      <th></th>\n",
       "      <th></th>\n",
       "      <th></th>\n",
       "      <th></th>\n",
       "      <th></th>\n",
       "      <th></th>\n",
       "    </tr>\n",
       "  </thead>\n",
       "  <tbody>\n",
       "    <tr>\n",
       "      <th>2024-01-02</th>\n",
       "      <td>25.262665</td>\n",
       "      <td>41.862671</td>\n",
       "      <td>31.221708</td>\n",
       "      <td>17.552208</td>\n",
       "      <td>70.522316</td>\n",
       "      <td>132697.0</td>\n",
       "    </tr>\n",
       "    <tr>\n",
       "      <th>2024-01-03</th>\n",
       "      <td>25.285728</td>\n",
       "      <td>41.843868</td>\n",
       "      <td>30.877075</td>\n",
       "      <td>17.676556</td>\n",
       "      <td>70.156204</td>\n",
       "      <td>132834.0</td>\n",
       "    </tr>\n",
       "    <tr>\n",
       "      <th>2024-01-04</th>\n",
       "      <td>25.018152</td>\n",
       "      <td>41.721622</td>\n",
       "      <td>30.672159</td>\n",
       "      <td>17.456556</td>\n",
       "      <td>69.213470</td>\n",
       "      <td>131226.0</td>\n",
       "    </tr>\n",
       "    <tr>\n",
       "      <th>2024-01-05</th>\n",
       "      <td>25.318022</td>\n",
       "      <td>41.655800</td>\n",
       "      <td>31.389368</td>\n",
       "      <td>17.714817</td>\n",
       "      <td>68.325645</td>\n",
       "      <td>132023.0</td>\n",
       "    </tr>\n",
       "    <tr>\n",
       "      <th>2024-01-08</th>\n",
       "      <td>25.534847</td>\n",
       "      <td>41.354900</td>\n",
       "      <td>31.054050</td>\n",
       "      <td>17.561773</td>\n",
       "      <td>67.977837</td>\n",
       "      <td>132427.0</td>\n",
       "    </tr>\n",
       "    <tr>\n",
       "      <th>...</th>\n",
       "      <td>...</td>\n",
       "      <td>...</td>\n",
       "      <td>...</td>\n",
       "      <td>...</td>\n",
       "      <td>...</td>\n",
       "      <td>...</td>\n",
       "    </tr>\n",
       "    <tr>\n",
       "      <th>2024-12-20</th>\n",
       "      <td>24.080000</td>\n",
       "      <td>36.820000</td>\n",
       "      <td>31.465475</td>\n",
       "      <td>18.410000</td>\n",
       "      <td>54.619999</td>\n",
       "      <td>122102.0</td>\n",
       "    </tr>\n",
       "    <tr>\n",
       "      <th>2024-12-23</th>\n",
       "      <td>23.920000</td>\n",
       "      <td>35.619999</td>\n",
       "      <td>30.856142</td>\n",
       "      <td>17.930000</td>\n",
       "      <td>54.849998</td>\n",
       "      <td>120767.0</td>\n",
       "    </tr>\n",
       "    <tr>\n",
       "      <th>2024-12-26</th>\n",
       "      <td>24.200001</td>\n",
       "      <td>35.580002</td>\n",
       "      <td>31.055923</td>\n",
       "      <td>17.719999</td>\n",
       "      <td>55.009998</td>\n",
       "      <td>121078.0</td>\n",
       "    </tr>\n",
       "    <tr>\n",
       "      <th>2024-12-27</th>\n",
       "      <td>24.110001</td>\n",
       "      <td>34.950001</td>\n",
       "      <td>30.746264</td>\n",
       "      <td>17.680000</td>\n",
       "      <td>54.740002</td>\n",
       "      <td>120269.0</td>\n",
       "    </tr>\n",
       "    <tr>\n",
       "      <th>2024-12-30</th>\n",
       "      <td>24.170000</td>\n",
       "      <td>35.500000</td>\n",
       "      <td>30.696318</td>\n",
       "      <td>17.500000</td>\n",
       "      <td>54.549999</td>\n",
       "      <td>120283.0</td>\n",
       "    </tr>\n",
       "  </tbody>\n",
       "</table>\n",
       "<p>251 rows × 6 columns</p>\n",
       "</div>"
      ],
      "text/plain": [
       "Ticker       BBAS3.SA   EGIE3.SA   ITUB4.SA   SLCE3.SA   VALE3.SA     ^BVSP\n",
       "Date                                                                       \n",
       "2024-01-02  25.262665  41.862671  31.221708  17.552208  70.522316  132697.0\n",
       "2024-01-03  25.285728  41.843868  30.877075  17.676556  70.156204  132834.0\n",
       "2024-01-04  25.018152  41.721622  30.672159  17.456556  69.213470  131226.0\n",
       "2024-01-05  25.318022  41.655800  31.389368  17.714817  68.325645  132023.0\n",
       "2024-01-08  25.534847  41.354900  31.054050  17.561773  67.977837  132427.0\n",
       "...               ...        ...        ...        ...        ...       ...\n",
       "2024-12-20  24.080000  36.820000  31.465475  18.410000  54.619999  122102.0\n",
       "2024-12-23  23.920000  35.619999  30.856142  17.930000  54.849998  120767.0\n",
       "2024-12-26  24.200001  35.580002  31.055923  17.719999  55.009998  121078.0\n",
       "2024-12-27  24.110001  34.950001  30.746264  17.680000  54.740002  120269.0\n",
       "2024-12-30  24.170000  35.500000  30.696318  17.500000  54.549999  120283.0\n",
       "\n",
       "[251 rows x 6 columns]"
      ]
     },
     "metadata": {},
     "output_type": "display_data"
    }
   ],
   "source": [
    "#acao = \"ITUB4.SA\"\n",
    "ativos = list(carteira.keys())\n",
    "ativos.append(\"^BVSP\")\n",
    "data_incial = \"2024-01-01\"\n",
    "data_final = \"2024-12-31\"\n",
    "\n",
    "tabela_cotacoes = yf.download(ativos, start= data_incial, end= data_final)\n",
    "tabela_cotacoes = tabela_cotacoes[\"Close\"]\n",
    "display(tabela_cotacoes)"
   ]
  },
  {
   "cell_type": "markdown",
   "metadata": {},
   "source": [
    "Cálculo da Rentabilidade"
   ]
  },
  {
   "cell_type": "code",
   "execution_count": 96,
   "metadata": {},
   "outputs": [
    {
     "name": "stdout",
     "output_type": "stream",
     "text": [
      "{'BBAS3.SA': 0.9567478440022855, 'EGIE3.SA': 0.8480108707379447, 'ITUB4.SA': 0.9831722652716537, 'SLCE3.SA': 0.9970255624286328, 'VALE3.SA': 0.7735140073009134, '^BVSP': 0.9064485255883705}\n"
     ]
    }
   ],
   "source": [
    "rentabilidades = {}\n",
    "\n",
    "for ativo in tabela_cotacoes.columns:\n",
    "    rentabilidade = float(tabela_cotacoes[ativo].iloc[-1] / tabela_cotacoes[ativo].iloc[0])\n",
    "    rentabilidades[ativo] = rentabilidade\n",
    "\n",
    "print(rentabilidades)"
   ]
  },
  {
   "cell_type": "markdown",
   "metadata": {},
   "source": [
    "Cálculo do Valor Final da Carteira"
   ]
  },
  {
   "cell_type": "code",
   "execution_count": 97,
   "metadata": {},
   "outputs": [
    {
     "name": "stdout",
     "output_type": "stream",
     "text": [
      "Valor inicial da carteira = 4800.0\n",
      "Valor final da carteira = 4393.2950646747\n",
      "Rentabilidade da carteira: -8.5%\n",
      "Rentabilidade do índice (IBOV): -9.4%\n",
      "A rentabilidade da carteira superou o IBOV em: 0.9%\n"
     ]
    }
   ],
   "source": [
    "valor_inicial = sum(carteira.values())\n",
    "print(f\"Valor inicial da carteira = {valor_inicial}\")\n",
    "\n",
    "valor_final = sum(carteira[ativo] * rentabilidades[ativo] for ativo in carteira)\n",
    "print(f\"Valor final da carteira = {valor_final}\")\n",
    "\n",
    "rentabilidade_carteira = valor_final / valor_inicial - 1\n",
    "print(f\"Rentabilidade da carteira: {rentabilidade_carteira:.1%}\")\n",
    "\n",
    "rentabilidade_indice = rentabilidades[\"^BVSP\"] - 1\n",
    "print(f\"Rentabilidade do índice (IBOV): {rentabilidade_indice:.1%}\")\n",
    "\n",
    "print(f\"A rentabilidade da carteira superou o IBOV em: {rentabilidade_carteira - rentabilidade_indice:.1%}\")"
   ]
  }
 ],
 "metadata": {
  "kernelspec": {
   "display_name": "Python 3",
   "language": "python",
   "name": "python3"
  },
  "language_info": {
   "codemirror_mode": {
    "name": "ipython",
    "version": 3
   },
   "file_extension": ".py",
   "mimetype": "text/x-python",
   "name": "python",
   "nbconvert_exporter": "python",
   "pygments_lexer": "ipython3",
   "version": "3.13.1"
  }
 },
 "nbformat": 4,
 "nbformat_minor": 2
}
